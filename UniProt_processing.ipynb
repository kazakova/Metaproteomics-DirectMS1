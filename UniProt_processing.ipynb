{
 "cells": [
  {
   "cell_type": "code",
   "execution_count": 3,
   "id": "e3573e13",
   "metadata": {},
   "outputs": [],
   "source": [
    "from pyteomics import fasta\n",
    "from os import path, listdir\n",
    "import os\n",
    "import pickle\n",
    "from collections import Counter"
   ]
  },
  {
   "cell_type": "code",
   "execution_count": 2,
   "id": "afe99a76",
   "metadata": {},
   "outputs": [],
   "source": [
    "from ete3 import NCBITaxa\n",
    "ncbi = NCBITaxa()\n",
    "import operator"
   ]
  },
  {
   "cell_type": "code",
   "execution_count": null,
   "id": "dae49515",
   "metadata": {},
   "outputs": [],
   "source": [
    "path_to_uniprot = '/home/fasta/uniprot_bacteria.fasta'\n",
    "path_to_uniprot_dbs = '/home/kae-13-1/fasta/bacts_bases_uniprot/'\n",
    "path_to_swissprot_dbs = '/home/kae-13-1/fasta/bacts_bases_sprot/'"
   ]
  },
  {
   "cell_type": "markdown",
   "id": "8fc908e4",
   "metadata": {},
   "source": [
    "# I. Creating organism-specific databases"
   ]
  },
  {
   "cell_type": "markdown",
   "id": "d107cedd",
   "metadata": {},
   "source": [
    "## Swiss-Prot + TrEMBL"
   ]
  },
  {
   "cell_type": "code",
   "execution_count": null,
   "id": "5e05ebc1",
   "metadata": {},
   "outputs": [],
   "source": [
    "%%time\n",
    "uniprot_taxid_set = set()\n",
    "for p in fasta.read(path_to_uniprot):\n",
    "    spec_i = p[0].split('OX=')[-1].split(' ')[0]\n",
    "    fasta.write([(p[0], p[1])], output = path.join(path_to_uniprot_dbs, '{}.fasta'.format(spec_i)),\n",
    "                    file_mode = 'a')\n",
    "    if spec_i not in taxid_set:\n",
    "        uniprot_taxid_set.update([int(spec_i)])"
   ]
  },
  {
   "cell_type": "markdown",
   "id": "b01b98e1",
   "metadata": {},
   "source": [
    "## Swiss-Prot"
   ]
  },
  {
   "cell_type": "code",
   "execution_count": null,
   "id": "94f1bad6",
   "metadata": {},
   "outputs": [],
   "source": [
    "%%time\n",
    "swissprot_taxid_set = set()\n",
    "for p in fasta.read(path_to_uniprot):\n",
    "    if p[0].startswith('sp'):\n",
    "        spec_i = p[0].split('OX=')[-1].split(' ')[0]\n",
    "        fasta.write([(p[0], p[1])], output = path.join(path_to_swissprot_dbs, '{}.fasta'.format(spec_i)),\n",
    "                        file_mode = 'a')\n",
    "        if spec_i not in swissprot_taxid_set:\n",
    "            swissprot_taxid_set.update([int(spec_i)])"
   ]
  },
  {
   "cell_type": "markdown",
   "id": "42bc4b47",
   "metadata": {},
   "source": [
    "CPU times: user 6min 6s, sys: 15.4 s, total: 6min 22s\n",
    "\n",
    "Wall time: 6min 17s"
   ]
  },
  {
   "cell_type": "markdown",
   "id": "d06546db",
   "metadata": {},
   "source": [
    "## Calculating number of proteins in databases"
   ]
  },
  {
   "cell_type": "code",
   "execution_count": null,
   "id": "2f5e02fe",
   "metadata": {},
   "outputs": [],
   "source": [
    "%%time\n",
    "len_fasta_uniprot = {}\n",
    "for i in uniprot_taxid_set:\n",
    "    file = path.join(path_to_uniprot_dbs, '{}.fasta'.format())\n",
    "    # For Windows\n",
    "    if os.name == 'nt':\n",
    "        n = sum(1 for _ in fasta.read(file))\n",
    "    # For Linux\n",
    "    else:\n",
    "        n = !grep -o 'OX=' $file | wc -l\n",
    "    len_fasta_uniprot[i] = int(n[0])"
   ]
  },
  {
   "cell_type": "code",
   "execution_count": null,
   "id": "eb0fda1e",
   "metadata": {},
   "outputs": [],
   "source": [
    "%%time\n",
    "len_fasta_sprot = {}\n",
    "for i in swissprot_taxid_set:\n",
    "    file = path.join(path_to_swissprot_dbs, '{}.fasta'.format(i))\n",
    "    # For Windows\n",
    "    if os.name == 'nt':\n",
    "        n = sum(1 for _ in fasta.read(file))\n",
    "    # For Linux\n",
    "    else:\n",
    "        n = !grep -o 'OX=' $file | wc -l\n",
    "    len_fasta_sprot[i] = int(n[0])"
   ]
  },
  {
   "cell_type": "code",
   "execution_count": null,
   "id": "be2b3bec",
   "metadata": {},
   "outputs": [],
   "source": [
    "path_to_len_uniprot = ''\n",
    "path_to_len_swissprot = ''\n",
    "\n",
    "pickle.dump(len_fasta_sprot, \n",
    "            open(path_to_len_swissprot, 'wb'), \n",
    "            protocol=pickle.HIGHEST_PROTOCOL)\n",
    "pickle.dump(len_fasta_uniprot, \n",
    "            open(path_to_len_uniprot, 'wb'), \n",
    "            protocol=pickle.HIGHEST_PROTOCOL)"
   ]
  },
  {
   "cell_type": "markdown",
   "id": "09e618c9",
   "metadata": {},
   "source": [
    "# II. Creating species:descendants dictionary"
   ]
  },
  {
   "cell_type": "code",
   "execution_count": null,
   "id": "9dc67f17",
   "metadata": {},
   "outputs": [],
   "source": [
    "%%time\n",
    "allowed_ranks = ('strain', 'subspecies', 'forma specialis', 'isolate', 'serotype', 'serogroup')\n",
    "\n",
    "species_descendants = {}\n",
    "used = set()\n",
    "\n",
    "for i in taxid_set:\n",
    "    if i not in used:\n",
    "        rank = ncbi.get_rank([i])\n",
    "        if rank:\n",
    "            if rank[i] == 'species':\n",
    "                descendants = ncbi.get_descendant_taxa(i) + [i]\n",
    "                descendants = [j for j in descendants if j in taxid_set]\n",
    "                species_descendants[i] = set(descendants)\n",
    "                used.update(descendants)\n",
    "            elif rank[int(i)] in allowed_ranks:\n",
    "                lineage = ncbi.get_lineage(i)\n",
    "                ranks = ncbi.get_rank(lineage)\n",
    "                species = [k for k in ranks.keys() if ranks[k] == 'species'][0]\n",
    "                \n",
    "                descendants = ncbi.get_descendant_taxa(species) + [species]\n",
    "                descendants = [j for j in descendants if j in taxid_set]\n",
    "                species_descendants[species] = set(descendants)\n",
    "                used.update(descendants)"
   ]
  },
  {
   "cell_type": "markdown",
   "id": "53963765",
   "metadata": {},
   "source": [
    "CPU times: user 10h 11s, sys: 1h 56min 50s, total: 11h 57min 2s\n",
    "\n",
    "Wall time: 11h 58min 20s"
   ]
  },
  {
   "cell_type": "code",
   "execution_count": null,
   "id": "1dbf563a",
   "metadata": {},
   "outputs": [],
   "source": [
    "path_to_species_descendants = ''\n",
    "pickle.dump(species_descendants, \n",
    "            open(path_to_species_descendants, 'wb'), \n",
    "            protocol=pickle.HIGHEST_PROTOCOL)"
   ]
  },
  {
   "cell_type": "markdown",
   "id": "7511dad2",
   "metadata": {},
   "source": [
    "# III. Choosing group leaders"
   ]
  },
  {
   "cell_type": "markdown",
   "id": "ef2292e5",
   "metadata": {},
   "source": [
    "## Swiss-Prot + TrEMBL"
   ]
  },
  {
   "cell_type": "code",
   "execution_count": null,
   "id": "0f59335e",
   "metadata": {},
   "outputs": [],
   "source": [
    "%%time\n",
    "species_leader_uniprot = {}\n",
    "\n",
    "for i in species_descendants.keys():\n",
    "    strains = species_des_dict[i]\n",
    "    lens = {j:len_fasta_uniprot[j] for j in strains} \n",
    "    if len(lens) == 0:\n",
    "        continue\n",
    "    else:\n",
    "        lead = max(lens.items(), key=operator.itemgetter(1))[0]\n",
    "        species_leader_uniprot[i] = lead"
   ]
  },
  {
   "cell_type": "markdown",
   "id": "66a4ce9b",
   "metadata": {},
   "source": [
    "## Swiss-Prot"
   ]
  },
  {
   "cell_type": "code",
   "execution_count": 94,
   "id": "66b63bb5",
   "metadata": {},
   "outputs": [
    {
     "name": "stdout",
     "output_type": "stream",
     "text": [
      "CPU times: user 28.4 s, sys: 1min 14s, total: 1min 42s\n",
      "Wall time: 1min 42s\n"
     ]
    }
   ],
   "source": [
    "%%time\n",
    "species_leader_sprot = {}\n",
    "for i in species_descendants.keys():\n",
    "    strains = species_des_dict[i]\n",
    "    strains = [i for i in strains if i in swissprot_taxid_set]\n",
    "    lens = {j:len_fasta_sprot[j] for j in strains} \n",
    "    if len(lens) == 0:\n",
    "        continue\n",
    "    else:\n",
    "        lead = max(lens.items(), key=operator.itemgetter(1))[0]\n",
    "        species_leader_sprot[i] = lead"
   ]
  },
  {
   "cell_type": "code",
   "execution_count": null,
   "id": "55391fa5",
   "metadata": {},
   "outputs": [],
   "source": [
    "path_to_leaders_uniprot = ''\n",
    "path_to_leaders_swissprot = ''\n",
    "pickle.dump(species_leader_uniprot, \n",
    "            open(path_to_leaders_uniprot, 'wb'), \n",
    "            protocol=pickle.HIGHEST_PROTOCOL)\n",
    "pickle.dump(species_leader_sprot, \n",
    "            open(path_to_leaders_swissprot, 'wb'), \n",
    "            protocol=pickle.HIGHEST_PROTOCOL)"
   ]
  },
  {
   "cell_type": "markdown",
   "id": "dcee0663",
   "metadata": {},
   "source": [
    "# IV Excluding 'sp' and 'uncultured' organisms"
   ]
  },
  {
   "cell_type": "code",
   "execution_count": 99,
   "id": "5a7640ed",
   "metadata": {},
   "outputs": [
    {
     "name": "stdout",
     "output_type": "stream",
     "text": [
      "CPU times: user 2.02 s, sys: 695 ms, total: 2.71 s\n",
      "Wall time: 3 s\n"
     ]
    }
   ],
   "source": [
    "%%time\n",
    "i = 0\n",
    "exclude_names = set()\n",
    "leaders = set(species_leader_sprot.values()).union(set(species_leader_uniprot.values()))\n",
    "\n",
    "for k in leaders:\n",
    "    name = list(ncbi.get_taxid_translator([k]).values())[0]\n",
    "    if 'sp.' in name:\n",
    "        if name.split(' ')[1] == 'sp.':\n",
    "            exclude_names.update([k])\n",
    "            i+=1\n",
    "    if name.startswith('uncultured'):\n",
    "        exclude_names.update([k])"
   ]
  },
  {
   "cell_type": "code",
   "execution_count": null,
   "id": "58e99bd0",
   "metadata": {},
   "outputs": [],
   "source": [
    "path_to_exclude_names = ''\n",
    "pickle.dump(exclude_names, \n",
    "            open(path_to_exclude_names, 'wb'), \n",
    "            protocol=pickle.HIGHEST_PROTOCOL)"
   ]
  }
 ],
 "metadata": {
  "kernelspec": {
   "display_name": "Python 3 (ipykernel)",
   "language": "python",
   "name": "python3"
  },
  "language_info": {
   "codemirror_mode": {
    "name": "ipython",
    "version": 3
   },
   "file_extension": ".py",
   "mimetype": "text/x-python",
   "name": "python",
   "nbconvert_exporter": "python",
   "pygments_lexer": "ipython3",
   "version": "3.10.9"
  }
 },
 "nbformat": 4,
 "nbformat_minor": 5
}
